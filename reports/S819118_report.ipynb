{
  "cells": [
    {
      "cell_type": "markdown",
      "source": [
        "# Predictability limits in session-based next item recommendation\n",
        "\n",
        "Session-based recommendations are based on the user's recent actions, for example, the items they have viewed during the current browsing session or the sightseeing places they have just visited. Closely related is sequence-aware recommendation, where the choice of the next item should follow from the sequence of previous actions.\n",
        "\n",
        "We study seven benchmarks for session-based recommendation, covering retail, music and news domains to investigate how accurately user behavior can be predicted from the session histories. We measure the entropy rate of the data and estimate the limit of predictability to be between 44% and 73% in the included datasets.\n",
        "\n",
        "We establish some algorithm-specific limits on prediction accuracy for Markov chains, association rules and *k*-nearest neighbors methods. With most of the analyzed methods, the algorithm design limits their performance with sparse training data. The session based *k*-nearest neighbors are least restricted in comparison and have room for improvement across all of the analyzed datasets.\n",
        "\n",
        "## Tutorials\n",
        "\n",
        "### Predictability limits in session-based next item recommendation on Retailrocket data\n",
        "\n",
        "[direct link to notebook →](https://github.com/RecoHut-Stanzas/S819118/blob/main/nbs/P846279_Predictability_limits_in_session_based_next_item_recommendation_on_Retailrocket_data.ipynb)\n",
        "\n",
        "In this tutorial, we are estimating the predictability limits due to randomness and due to algorithm design in some methods of session-based recommendation.\n",
        "\n",
        "## References\n",
        "\n",
        "1. [https://github.com/RecoHut-Stanzas/S819118](https://github.com/RecoHut-Stanzas/S819118)\n",
        "2. [https://www.dropbox.com/sh/dbzmtq4zhzbj5o9/AACldzQWbw-igKjcPTBI6ZPAa](https://www.dropbox.com/sh/dbzmtq4zhzbj5o9/AACldzQWbw-igKjcPTBI6ZPAa)\n",
        "3. [https://github.com/priitj/recsys19](https://github.com/priitj/recsys19)\n",
        "4. [https://www.youtube.com/watch?v=pvpU1XZFu4g](https://www.youtube.com/watch?v=pvpU1XZFu4g)\n",
        "5. [paper](https://dl.acm.org/doi/abs/10.1145/3298689.3346990#:~:text=The%20limit%20is%20between%2044,to%20improve%20above%20these%20values)\n",
        "6. [https://github.com/priitj/recsys19](https://github.com/priitj/recsys19)"
      ],
      "metadata": {
        "id": "lIYdn1woOS1n"
      }
    }
  ],
  "metadata": {
    "colab": {
      "name": "scratchpad",
      "provenance": []
    },
    "kernelspec": {
      "display_name": "Python 3",
      "name": "python3"
    }
  },
  "nbformat": 4,
  "nbformat_minor": 0
}